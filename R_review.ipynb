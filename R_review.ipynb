{
  "nbformat": 4,
  "nbformat_minor": 0,
  "metadata": {
    "colab": {
      "provenance": [],
      "include_colab_link": true
    },
    "kernelspec": {
      "name": "ir",
      "display_name": "R"
    },
    "language_info": {
      "name": "R"
    }
  },
  "cells": [
    {
      "cell_type": "markdown",
      "metadata": {
        "id": "view-in-github",
        "colab_type": "text"
      },
      "source": [
        "<a href=\"https://colab.research.google.com/github/marszzibros/BME5990/blob/main/R_review.ipynb\" target=\"_parent\"><img src=\"https://colab.research.google.com/assets/colab-badge.svg\" alt=\"Open In Colab\"/></a>"
      ]
    },
    {
      "cell_type": "markdown",
      "source": [
        "# Install any necessary libraries."
      ],
      "metadata": {
        "id": "q0QfUpIy73io"
      }
    },
    {
      "cell_type": "code",
      "source": [
        "install.packages(\"tidyverse\")"
      ],
      "metadata": {
        "id": "_La7hrsH73tK",
        "colab": {
          "base_uri": "https://localhost:8080/"
        },
        "outputId": "5d8aba9e-b747-4c51-df81-c66a6574fb22"
      },
      "execution_count": null,
      "outputs": [
        {
          "output_type": "stream",
          "name": "stderr",
          "text": [
            "Installing package into ‘/usr/local/lib/R/site-library’\n",
            "(as ‘lib’ is unspecified)\n",
            "\n"
          ]
        }
      ]
    },
    {
      "cell_type": "markdown",
      "source": [
        "# Load your libraries."
      ],
      "metadata": {
        "id": "OL92MAS773-q"
      }
    },
    {
      "cell_type": "code",
      "source": [
        "library(ggplot2)"
      ],
      "metadata": {
        "id": "dXeV2wls74Sd"
      },
      "execution_count": null,
      "outputs": []
    },
    {
      "cell_type": "markdown",
      "source": [
        "# Define some variables\n",
        "Create two string variables, one each for species and sample, as well as a character vector called \"conditions\". The latter should contain four elements: 2 strings, both of which should be \"control\" and two of whatever you named your sample variable."
      ],
      "metadata": {
        "id": "QqZ9nMfQ74x-"
      }
    },
    {
      "cell_type": "code",
      "source": [
        "Species <- \"mouse\"\n",
        "Sample <- \"\"\n",
        "conditions <- c(\"control\", \"control\", Species, Sample)"
      ],
      "metadata": {
        "id": "kOpp37zQ747M"
      },
      "execution_count": null,
      "outputs": []
    },
    {
      "cell_type": "markdown",
      "source": [
        "# Use Paste0\n",
        "Suppose you have some files, SRARunTableLow.txt and SRARunTableHigh.txt. Create a variable using paste0 and your sample variable such that your new variable matches these file names when your sample variable is changed to \"high\" or \"low.\""
      ],
      "metadata": {
        "id": "7BGMLgS-75KY"
      }
    },
    {
      "cell_type": "code",
      "source": [
        "assign(name, paste0(\"SRARunTable\",sample,\".txt\"))"
      ],
      "metadata": {
        "id": "tFKuhtqUE7Ef"
      },
      "execution_count": null,
      "outputs": []
    },
    {
      "cell_type": "markdown",
      "source": [
        "# Create synthetic data\n",
        "Write two columns of whatever sort of data strikes your fancy and publish\n",
        "it to a csv. Consider the next two exercises when you do this."
      ],
      "metadata": {
        "id": "jTAy8guGLrZ6"
      }
    },
    {
      "cell_type": "code",
      "source": [
        "\n",
        "Animal <- c(\"Human\",\"Elepant\", \"Mouse\", \"Deer\", \"Tiger\", \"Lion\", \"Rabbit\")\n",
        "Country <- c('U.S.','Africa', 'U.S.', 'Korea', \"Russia\", \"Africa\", \"U.S.\")\n",
        "\n",
        "data <- data.frame(Animal, Country)\n",
        "write.csv(data, \"data.csv\",row.names = FALSE)\n"
      ],
      "metadata": {
        "id": "amLvYlGBLrie"
      },
      "execution_count": null,
      "outputs": []
    },
    {
      "cell_type": "markdown",
      "source": [
        "# Conditional statement\n",
        "Use the read.csv function to import the first column of your CSV if species is set to human, or the second column if species is set to mouse. Assign this data to a variable."
      ],
      "metadata": {
        "id": "7epUmeo5E7Sd"
      }
    },
    {
      "cell_type": "code",
      "source": [
        "if (Species == \"human\"){\n",
        "  datacsv <- read.csv(\"data.csv\",header = TRUE)[1]\n",
        "} else if (Species == \"mouse\"){\n",
        "  datacsv <- read.csv(\"data.csv\",header = TRUE)[2]\n",
        "}\n",
        "print(datacsv)\n"
      ],
      "metadata": {
        "id": "LrDmjV80FFs5",
        "colab": {
          "base_uri": "https://localhost:8080/"
        },
        "outputId": "d7f6ab8f-77ba-4bdb-c732-6ec38268c20f"
      },
      "execution_count": null,
      "outputs": [
        {
          "output_type": "stream",
          "name": "stdout",
          "text": [
            "  Country\n",
            "1    U.S.\n",
            "2  Africa\n",
            "3    U.S.\n",
            "4   Korea\n",
            "5  Russia\n",
            "6  Africa\n",
            "7    U.S.\n"
          ]
        }
      ]
    },
    {
      "cell_type": "markdown",
      "source": [
        "# Use ggplot\n",
        "Plot the data from your csv using ggplot in whatever format strikes your fancy and is appropriate for the data you chose. Pick some fun colors to use."
      ],
      "metadata": {
        "id": "rikpHQh_FF2n"
      }
    },
    {
      "cell_type": "code",
      "source": [
        "datacsv_total <- read.csv(\"data.csv\",header = TRUE)\n",
        "\n",
        "ggplot(data=datacsv_total)+\n",
        "  geom_bar(\n",
        "    aes(x= Country,\n",
        "        fill=Country)\n",
        "  )"
      ],
      "metadata": {
        "id": "xQIfD6EfMDid",
        "colab": {
          "base_uri": "https://localhost:8080/",
          "height": 437
        },
        "outputId": "e019a304-9f3e-4cf5-ed2e-27efb0c79ba6"
      },
      "execution_count": null,
      "outputs": [
        {
          "output_type": "display_data",
          "data": {
            "text/plain": [
              "plot without title"
            ],
            "image/png": "[encoded data removed]"
          },
          "metadata": {
            "image/png": {
              "width": 420,
              "height": 420
            }
          }
        }
      ]
    },
    {
      "cell_type": "code",
      "source": [],
      "metadata": {
        "id": "OVt8788TF9sD"
      },
      "execution_count": null,
      "outputs": []
    }
  ]
}