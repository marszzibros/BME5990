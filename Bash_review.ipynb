{
  "cells": [
    {
      "cell_type": "markdown",
      "metadata": {
        "id": "view-in-github",
        "colab_type": "text"
      },
      "source": [
        "<a href=\"https://colab.research.google.com/github/marszzibros/BME5990/blob/main/Bash_review.ipynb\" target=\"_parent\"><img src=\"https://colab.research.google.com/assets/colab-badge.svg\" alt=\"Open In Colab\"/></a>"
      ]
    },
    {
      "cell_type": "markdown",
      "id": "86660fea",
      "metadata": {
        "id": "86660fea"
      },
      "source": [
        "# \"Hello, world!\" in Bash in Jupyter\n",
        "Every time you run a code block in bash in jupyter, you have to remind Jupyter what language you're using and where to find the conda environment."
      ]
    },
    {
      "cell_type": "code",
      "execution_count": 1,
      "id": "04489d21",
      "metadata": {
        "id": "04489d21",
        "outputId": "9bab39a6-2954-437a-d33e-2cb078325c22",
        "colab": {
          "base_uri": "https://localhost:8080/"
        }
      },
      "outputs": [
        {
          "output_type": "stream",
          "name": "stdout",
          "text": [
            "Hello, world!\n"
          ]
        },
        {
          "output_type": "stream",
          "name": "stderr",
          "text": [
            "bash: line 1: /bobross/miniconda3/etc/profile.d/conda.sh: No such file or directory\n"
          ]
        }
      ],
      "source": [
        "%%bash\n",
        "source /bobross/miniconda3/etc/profile.d/conda.sh\n",
        "echo 'Hello, world!'"
      ]
    },
    {
      "cell_type": "markdown",
      "id": "9f8e5800",
      "metadata": {
        "id": "9f8e5800"
      },
      "source": [
        "# Use Python to create a list.txt\n",
        "Execute this code block. It's in Python. It sets up a text file for subsequent steps."
      ]
    },
    {
      "cell_type": "code",
      "execution_count": 2,
      "id": "96bc5a1f",
      "metadata": {
        "id": "96bc5a1f",
        "outputId": "f67c45f0-894e-4950-c4f3-b2df817906c3",
        "colab": {
          "base_uri": "https://localhost:8080/"
        }
      },
      "outputs": [
        {
          "output_type": "stream",
          "name": "stdout",
          "text": [
            "Done\n"
          ]
        }
      ],
      "source": [
        "samples = ['control', 'treatmentA', 'treatmentB']\n",
        "\n",
        "file = open(\"list.txt\", \"w\")\n",
        "for line in samples:\n",
        "    file.write(\"%s\\n\" % line)\n",
        "file.close()\n",
        "print('Done')"
      ]
    },
    {
      "cell_type": "markdown",
      "id": "58cf445b",
      "metadata": {
        "id": "58cf445b"
      },
      "source": [
        "# Exercise #1 For loop in Bash\n",
        "Write a bash script with a for loop that echoes the contents of the list.txt created in the previous step."
      ]
    },
    {
      "cell_type": "code",
      "execution_count": 3,
      "id": "359690c0",
      "metadata": {
        "id": "359690c0",
        "outputId": "aa90b71e-c091-4cf9-ee16-d3c9a6406e11",
        "colab": {
          "base_uri": "https://localhost:8080/"
        }
      },
      "outputs": [
        {
          "output_type": "stream",
          "name": "stdout",
          "text": [
            "control\n",
            "treatmentA\n",
            "treatmentB\n"
          ]
        }
      ],
      "source": [
        "%%bash\n",
        "for out in $(cat list.txt)\n",
        "do\n",
        "  echo $out\n",
        "done\n"
      ]
    },
    {
      "cell_type": "markdown",
      "id": "b243fda4",
      "metadata": {
        "id": "b243fda4"
      },
      "source": [
        "# Use Python to create a config.txt\n",
        "Execute this code block. It's in Python. It sets up a text file for subsequent steps."
      ]
    },
    {
      "cell_type": "code",
      "execution_count": 4,
      "id": "b9cbca7a",
      "metadata": {
        "id": "b9cbca7a",
        "outputId": "a098dcc4-8db9-4232-aa6e-a0ef6f4c57ac",
        "colab": {
          "base_uri": "https://localhost:8080/"
        }
      },
      "outputs": [
        {
          "output_type": "stream",
          "name": "stdout",
          "text": [
            "Done\n"
          ]
        }
      ],
      "source": [
        "kingdom = \"Ocean\"\n",
        "princess = \"Ariel\"\n",
        "problem = \"Tail\"\n",
        "\n",
        "config = open(\"config.txt\", \"w\")\n",
        "configelements = [kingdom, princess, problem]\n",
        "for line in configelements:\n",
        "    config.write(\"%s\\n\" % line)\n",
        "config.close()\n",
        "print('Done')"
      ]
    },
    {
      "cell_type": "markdown",
      "id": "bc8a2786",
      "metadata": {
        "id": "bc8a2786"
      },
      "source": [
        "# Exercise #2\n",
        "Write a bash script that echos the name of the princess in the config file."
      ]
    },
    {
      "cell_type": "code",
      "execution_count": 5,
      "id": "b6f0a608",
      "metadata": {
        "id": "b6f0a608",
        "outputId": "29199db7-b955-42bd-d1d9-39588152a6f5",
        "colab": {
          "base_uri": "https://localhost:8080/"
        }
      },
      "outputs": [
        {
          "output_type": "stream",
          "name": "stdout",
          "text": [
            "Ocean Ariel Tail\n"
          ]
        }
      ],
      "source": [
        "%%bash\n",
        "echo $(cat config.txt)"
      ]
    },
    {
      "cell_type": "markdown",
      "id": "56294b0c",
      "metadata": {
        "id": "56294b0c"
      },
      "source": [
        "# Exercise #3\n",
        "Write a bash script that checks the name of the princess. If the princess is Belle, print \"Lumiere.\" If the princess is Ariel, print \"Flounder\"."
      ]
    },
    {
      "cell_type": "code",
      "execution_count": 6,
      "id": "c4bbd8ea",
      "metadata": {
        "id": "c4bbd8ea",
        "outputId": "fb591f79-00da-4068-8d84-0cf0a0155a8c",
        "colab": {
          "base_uri": "https://localhost:8080/"
        }
      },
      "outputs": [
        {
          "output_type": "stream",
          "name": "stdout",
          "text": [
            "Lumiere\n"
          ]
        }
      ],
      "source": [
        "%%bash\n",
        "VAR1=\"Belle\"\n",
        "\n",
        "if [ \"$VAR1\" = \"Belle\" ]; then\n",
        "    echo \"Lumiere\"\n",
        "elif [ \"$VAR1\" = \"Ariel\" ];then\n",
        "    echo \"Flounder\"\n",
        "fi"
      ]
    },
    {
      "cell_type": "markdown",
      "id": "5af57135",
      "metadata": {
        "id": "5af57135"
      },
      "source": [
        "# Exercise #4\n",
        "Write a bash script that downloads the fastq file for this SRA entry https://www.ncbi.nlm.nih.gov/sra/SRX21497176[accn]"
      ]
    },
    {
      "cell_type": "code",
      "execution_count": null,
      "id": "4b90f95b",
      "metadata": {
        "id": "4b90f95b"
      },
      "outputs": [],
      "source": [
        "%%bash\n",
        "rm -r sratoolkit*\n",
        "\n",
        "wget https://ftp-trace.ncbi.nlm.nih.gov/sra/sdk/current/sratoolkit.current-ubuntu64.tar.gz\n",
        "gunzip sratoolkit.current-ubuntu64.tar.gz\n",
        "tar -xvf sratoolkit.current-ubuntu64.tar\n",
        "\n",
        "./sratoolkit.3.0.7-ubuntu64/bin/vdb-config --restore-defaults\n",
        "./sratoolkit.3.0.7-ubuntu64/bin/fastq-dump SRR25774528\n",
        "rm -r sratoolkit*"
      ]
    },
    {
      "cell_type": "markdown",
      "id": "231f2769",
      "metadata": {
        "id": "231f2769"
      },
      "source": [
        "# Exercise #5\n",
        "Write a bash script that zips that fastq up"
      ]
    },
    {
      "cell_type": "code",
      "execution_count": null,
      "id": "88f39f76",
      "metadata": {
        "id": "88f39f76"
      },
      "outputs": [],
      "source": [
        "%%bash\n",
        "rm -r SRR25774528.fastq.gz\n",
        "gzip *.fastq"
      ]
    },
    {
      "cell_type": "markdown",
      "id": "84dc8e5f",
      "metadata": {
        "id": "84dc8e5f"
      },
      "source": [
        "# Exercise #6\n",
        "Write a bash script that prints each line of the fastq that starts with \">\" without unzipping it. You can use the format <(file.fq.gz) in place of the unzipped file name as a process substitution."
      ]
    },
    {
      "cell_type": "code",
      "execution_count": null,
      "id": "78dc8eae",
      "metadata": {
        "id": "78dc8eae"
      },
      "outputs": [],
      "source": [
        "%%bash\n",
        "zcat SRR25774528.fastq.gz | echo \"$(grep '^>')\""
      ]
    },
    {
      "cell_type": "markdown",
      "id": "b91d3bbb",
      "metadata": {
        "id": "b91d3bbb"
      },
      "source": [
        "# Exercise #7\n",
        "Take your command from above and instead of printing the output, pipe it to a cut command. Specify the delimiter as a space and extract the first field."
      ]
    },
    {
      "cell_type": "code",
      "source": [
        "%%bash\n",
        "zcat SRR25774528.fastq.gz | echo \"$(grep '^>')\" | cut -d ' ' -f 1"
      ],
      "metadata": {
        "id": "6K7Aj7y6HKUc"
      },
      "id": "6K7Aj7y6HKUc",
      "execution_count": null,
      "outputs": []
    },
    {
      "cell_type": "markdown",
      "id": "d6223cab",
      "metadata": {
        "id": "d6223cab"
      },
      "source": [
        "# Exercise #8\n",
        "Take your command from above and edit it so that it publishes the output to a file named \"decoys.txt\"."
      ]
    },
    {
      "cell_type": "code",
      "source": [
        " %%bash\n",
        " zcat SRR25774528.fastq.gz | echo \"$(grep '^>')\" | cut -d ' ' -f 1 >> decoys.txt\n",
        " cat decoys.txt\n",
        " rm -r decoys.txt"
      ],
      "metadata": {
        "id": "7j4GyqQyvNtA"
      },
      "id": "7j4GyqQyvNtA",
      "execution_count": null,
      "outputs": []
    }
  ],
  "metadata": {
    "kernelspec": {
      "display_name": "Python 3 (ipykernel)",
      "language": "python",
      "name": "python3"
    },
    "language_info": {
      "codemirror_mode": {
        "name": "ipython",
        "version": 3
      },
      "file_extension": ".py",
      "mimetype": "text/x-python",
      "name": "python",
      "nbconvert_exporter": "python",
      "pygments_lexer": "ipython3",
      "version": "3.8.12"
    },
    "toc": {
      "nav_menu": {},
      "number_sections": true,
      "sideBar": true,
      "skip_h1_title": false,
      "title_cell": "Table of Contents",
      "title_sidebar": "Contents",
      "toc_cell": false,
      "toc_position": {},
      "toc_section_display": true,
      "toc_window_display": false
    },
    "colab": {
      "provenance": [],
      "include_colab_link": true
    }
  },
  "nbformat": 4,
  "nbformat_minor": 5
}